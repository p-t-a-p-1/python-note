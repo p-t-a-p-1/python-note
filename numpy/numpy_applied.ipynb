{
 "cells": [
  {
   "cell_type": "code",
   "execution_count": 1,
   "metadata": {},
   "outputs": [],
   "source": [
    "# Numpyインストール\n",
    "import numpy"
   ]
  },
  {
   "cell_type": "markdown",
   "metadata": {},
   "source": [
    "# データ型（int64, int32, float64, float32, bool, ...）"
   ]
  },
  {
   "cell_type": "code",
   "execution_count": 7,
   "metadata": {},
   "outputs": [
    {
     "name": "stdout",
     "output_type": "stream",
     "text": [
      "array= [0 1 2 3 4]\n",
      "dtype= int64\n"
     ]
    }
   ],
   "source": [
    "a = numpy.arange(5)\n",
    "print(\"array=\", a)\n",
    "# dtype使ってデータ型の確認\n",
    "print(\"dtype=\", a.dtype) "
   ]
  },
  {
   "cell_type": "code",
   "execution_count": 3,
   "metadata": {},
   "outputs": [
    {
     "name": "stdout",
     "output_type": "stream",
     "text": [
      "array= [0. 1. 2. 3. 4.]\n",
      "dtype= float64\n"
     ]
    }
   ],
   "source": [
    "# dtypeを設定して配列を生成\n",
    "# dtypeにfloatを指定して要素を小数にする\n",
    "a = numpy.arange(5, dtype=float)\n",
    "print(\"array=\", a)\n",
    "print(\"dtype=\", a.dtype)"
   ]
  },
  {
   "cell_type": "code",
   "execution_count": 6,
   "metadata": {},
   "outputs": [
    {
     "name": "stdout",
     "output_type": "stream",
     "text": [
      "array= [list([1]) list([2, 3])]\n",
      "dtype= object\n"
     ]
    }
   ],
   "source": [
    "ao = numpy.array([[1], [2, 3]])\n",
    "print(\"array=\", ao)\n",
    "print(\"dtype=\", ao.dtype)\n",
    "# objectが返って来る場合は間違い"
   ]
  },
  {
   "cell_type": "markdown",
   "metadata": {},
   "source": [
    "# 配列を用いた演算"
   ]
  },
  {
   "cell_type": "code",
   "execution_count": 8,
   "metadata": {},
   "outputs": [
    {
     "name": "stdout",
     "output_type": "stream",
     "text": [
      "[0 1 2 3]\n"
     ]
    }
   ],
   "source": [
    "a = numpy.array([0, 1, 2, 3])\n",
    "print(a)"
   ]
  },
  {
   "cell_type": "code",
   "execution_count": 9,
   "metadata": {},
   "outputs": [
    {
     "name": "stdout",
     "output_type": "stream",
     "text": [
      "[1 2 3 4]\n"
     ]
    }
   ],
   "source": [
    "# aの各要素に+1\n",
    "print(a + 1)"
   ]
  },
  {
   "cell_type": "code",
   "execution_count": 10,
   "metadata": {},
   "outputs": [
    {
     "name": "stdout",
     "output_type": "stream",
     "text": [
      "[0 2 4 6]\n"
     ]
    }
   ],
   "source": [
    "# aの各要素2倍\n",
    "print(a*2)"
   ]
  },
  {
   "cell_type": "markdown",
   "metadata": {},
   "source": [
    "## 配列同士の演算"
   ]
  },
  {
   "cell_type": "code",
   "execution_count": 11,
   "metadata": {},
   "outputs": [
    {
     "name": "stdout",
     "output_type": "stream",
     "text": [
      "a= [1 2 3]\n",
      "b= [4 5 6]\n"
     ]
    }
   ],
   "source": [
    "a = numpy.array([1, 2, 3])\n",
    "print(\"a=\", a)\n",
    "b = numpy.array([4, 5, 6])\n",
    "print(\"b=\", b)"
   ]
  },
  {
   "cell_type": "code",
   "execution_count": 12,
   "metadata": {},
   "outputs": [
    {
     "name": "stdout",
     "output_type": "stream",
     "text": [
      "[5 7 9]\n"
     ]
    }
   ],
   "source": [
    "# 配列同士の和\n",
    "print(a + b)"
   ]
  },
  {
   "cell_type": "code",
   "execution_count": 13,
   "metadata": {},
   "outputs": [
    {
     "name": "stdout",
     "output_type": "stream",
     "text": [
      "[ 4 10 18]\n"
     ]
    }
   ],
   "source": [
    "# 配列同士の積\n",
    "print(a * b)"
   ]
  },
  {
   "cell_type": "code",
   "execution_count": 14,
   "metadata": {},
   "outputs": [
    {
     "name": "stdout",
     "output_type": "stream",
     "text": [
      "[1 2 3 4]\n",
      "[1 2 2 1]\n"
     ]
    }
   ],
   "source": [
    "# 配列同士の比較\n",
    "a = numpy.array([1, 2, 3, 4])\n",
    "print(a)\n",
    "b = numpy.array([1, 2, 2, 1])\n",
    "print(b)"
   ]
  },
  {
   "cell_type": "code",
   "execution_count": 15,
   "metadata": {},
   "outputs": [
    {
     "name": "stdout",
     "output_type": "stream",
     "text": [
      "[ True  True False False]\n"
     ]
    }
   ],
   "source": [
    "# == で要素単位で比較\n",
    "# Trueのとき等しい\n",
    "print(a == b)"
   ]
  },
  {
   "cell_type": "code",
   "execution_count": 16,
   "metadata": {},
   "outputs": [
    {
     "name": "stdout",
     "output_type": "stream",
     "text": [
      "False\n"
     ]
    }
   ],
   "source": [
    "# 全ての要素が等しいか比較\n",
    "print(numpy.array_equal(a, b))"
   ]
  },
  {
   "cell_type": "code",
   "execution_count": 17,
   "metadata": {},
   "outputs": [
    {
     "name": "stdout",
     "output_type": "stream",
     "text": [
      "True\n"
     ]
    }
   ],
   "source": [
    "c = numpy.array([1, 2, 3, 4])\n",
    "print(numpy.array_equal(a, c))"
   ]
  },
  {
   "cell_type": "code",
   "execution_count": 18,
   "metadata": {},
   "outputs": [
    {
     "name": "stdout",
     "output_type": "stream",
     "text": [
      "[False False  True  True]\n"
     ]
    }
   ],
   "source": [
    "# aの要素 > bの要素 が成り立つか比較\n",
    "print(a > b)"
   ]
  },
  {
   "cell_type": "code",
   "execution_count": 19,
   "metadata": {},
   "outputs": [
    {
     "name": "stdout",
     "output_type": "stream",
     "text": [
      "[False False False False]\n"
     ]
    }
   ],
   "source": [
    "print(a < b)"
   ]
  },
  {
   "cell_type": "markdown",
   "metadata": {},
   "source": [
    "# 配列のインデックスとスライス"
   ]
  },
  {
   "cell_type": "code",
   "execution_count": 20,
   "metadata": {},
   "outputs": [
    {
     "name": "stdout",
     "output_type": "stream",
     "text": [
      "[1 3 5 7]\n"
     ]
    }
   ],
   "source": [
    "a = numpy.array([1, 3, 5, 7])\n",
    "print(a)"
   ]
  },
  {
   "cell_type": "code",
   "execution_count": 21,
   "metadata": {},
   "outputs": [
    {
     "name": "stdout",
     "output_type": "stream",
     "text": [
      "3\n"
     ]
    }
   ],
   "source": [
    "print(a[1])"
   ]
  },
  {
   "cell_type": "code",
   "execution_count": 22,
   "metadata": {},
   "outputs": [
    {
     "name": "stdout",
     "output_type": "stream",
     "text": [
      "b= [[0 1 2]\n",
      " [3 4 5]]\n",
      "b.shape= (2, 3)\n"
     ]
    }
   ],
   "source": [
    "# 2次元配列\n",
    "b = numpy.arange(6).reshape(2, 3)\n",
    "print(\"b=\", b)\n",
    "print(\"b.shape=\", b.shape)"
   ]
  },
  {
   "cell_type": "code",
   "execution_count": 23,
   "metadata": {},
   "outputs": [
    {
     "name": "stdout",
     "output_type": "stream",
     "text": [
      "b[1] =  [3 4 5]\n",
      "b[1, 1] =  4\n"
     ]
    }
   ],
   "source": [
    "# bの0番目の軸(axis)方向の1番目を取り出す\n",
    "print(\"b[1] = \", b[1])\n",
    "# bの0番目の軸方向の1番目かつ1番目の軸方向の1番目を取り出す\n",
    "print(\"b[1, 1] = \", b[1, 1])"
   ]
  },
  {
   "attachments": {
    "image.png": {
     "image/png": "[encoded data removed]"
    }
   },
   "cell_type": "markdown",
   "metadata": {},
   "source": [
    "![image.png](attachment:image.png)"
   ]
  },
  {
   "cell_type": "code",
   "execution_count": 25,
   "metadata": {},
   "outputs": [
    {
     "name": "stdout",
     "output_type": "stream",
     "text": [
      "(2, 3)\n"
     ]
    }
   ],
   "source": [
    "# axis=0 の方向はサイズ2, axis=1 の方向はサイズ3\n",
    "print(b.shape)"
   ]
  },
  {
   "cell_type": "code",
   "execution_count": 27,
   "metadata": {},
   "outputs": [
    {
     "name": "stdout",
     "output_type": "stream",
     "text": [
      "[3 5]\n"
     ]
    }
   ],
   "source": [
    "# 配列の1番目から2番目の要素を取り出す\n",
    "a = numpy.array([1, 3, 5, 7])\n",
    "print(a[1:3])"
   ]
  },
  {
   "cell_type": "code",
   "execution_count": 28,
   "metadata": {},
   "outputs": [
    {
     "name": "stdout",
     "output_type": "stream",
     "text": [
      "[3 5 7]\n"
     ]
    }
   ],
   "source": [
    "# 1番目以降の要素を取り出す\n",
    "print(a[1:])"
   ]
  },
  {
   "cell_type": "code",
   "execution_count": 29,
   "metadata": {},
   "outputs": [
    {
     "name": "stdout",
     "output_type": "stream",
     "text": [
      "[7 5 3 1]\n"
     ]
    }
   ],
   "source": [
    "# 配列を逆順にする\n",
    "print(a[::-1])"
   ]
  },
  {
   "cell_type": "code",
   "execution_count": 30,
   "metadata": {},
   "outputs": [
    {
     "name": "stdout",
     "output_type": "stream",
     "text": [
      "before= [1 3 5 7]\n",
      "after= [ 1  3 10 14]\n"
     ]
    }
   ],
   "source": [
    "# スライスした要素を更新（1次元）\n",
    "print(\"before=\", a)\n",
    "a[2:] = numpy.array([10, 14])\n",
    "print(\"after=\", a)"
   ]
  },
  {
   "cell_type": "code",
   "execution_count": 32,
   "metadata": {},
   "outputs": [
    {
     "name": "stdout",
     "output_type": "stream",
     "text": [
      "b= [[0 1 2]\n",
      " [3 4 5]\n",
      " [6 7 8]]\n",
      "\n",
      "b[1:, 1:] =  [[4 5]\n",
      " [7 8]]\n"
     ]
    }
   ],
   "source": [
    "# スライスした要素を更新（2次元）\n",
    "b = numpy.arange(9).reshape(3, 3)\n",
    "print(\"b=\", b)\n",
    "print()\n",
    "# bの右下2×2を取り出す\n",
    "print(\"b[1:, 1:] = \", b[1:, 1:])"
   ]
  },
  {
   "cell_type": "code",
   "execution_count": 33,
   "metadata": {},
   "outputs": [
    {
     "name": "stdout",
     "output_type": "stream",
     "text": [
      "b= [[0 1 2]\n",
      " [3 4 5]]\n",
      "\n",
      "b[1, :] = [3 4 5]\n",
      "b[1] = [3 4 5]\n",
      "\n",
      "b[:, 1] = [1 4]\n"
     ]
    }
   ],
   "source": [
    "b = numpy.arange(6).reshape(2, 3)\n",
    "print(\"b=\", b)\n",
    "print()\n",
    "\n",
    "# : を使うことで範囲を指定せず全部取り出すことができる\n",
    "# b[1, :] と b[1] は同じ\n",
    "print(\"b[1, :] =\", b[1, :])\n",
    "print(\"b[1] =\", b[1])\n",
    "print()\n",
    "\n",
    "# 真ん中の列を取り出す\n",
    "print(\"b[:, 1] =\", b[:, 1])"
   ]
  },
  {
   "cell_type": "code",
   "execution_count": 34,
   "metadata": {},
   "outputs": [
    {
     "name": "stdout",
     "output_type": "stream",
     "text": [
      "[ 0  1  2  3  4  5  6  7  8  9 10 11 12 13 14]\n"
     ]
    }
   ],
   "source": [
    "a = numpy.arange(15)\n",
    "print(a)"
   ]
  },
  {
   "cell_type": "code",
   "execution_count": 35,
   "metadata": {},
   "outputs": [
    {
     "name": "stdout",
     "output_type": "stream",
     "text": [
      "[ True False False  True False False  True False False  True False False\n",
      "  True False False]\n"
     ]
    }
   ],
   "source": [
    "# aの各要素が3で割り切れるかどうか\n",
    "print(a % 3 == 0)"
   ]
  },
  {
   "cell_type": "code",
   "execution_count": 38,
   "metadata": {},
   "outputs": [
    {
     "name": "stdout",
     "output_type": "stream",
     "text": [
      "[ True False False  True False False  True False False  True False False\n",
      "  True False False]\n",
      "[ 0  3  6  9 12]\n"
     ]
    }
   ],
   "source": [
    "mask = (a % 3 == 0)\n",
    "print(mask)\n",
    "# 3の倍数だけ取り出すことができる\n",
    "print(a[mask])"
   ]
  },
  {
   "cell_type": "code",
   "execution_count": 39,
   "metadata": {},
   "outputs": [
    {
     "name": "stdout",
     "output_type": "stream",
     "text": [
      "[ 0  3  6  9 12]\n"
     ]
    }
   ],
   "source": [
    "# 直接指定もできる\n",
    "print(a[a % 3 == 0])"
   ]
  },
  {
   "cell_type": "code",
   "execution_count": 40,
   "metadata": {},
   "outputs": [
    {
     "name": "stdout",
     "output_type": "stream",
     "text": [
      "[-1  1  2 -1  4  5 -1  7  8 -1 10 11 -1 13 14]\n"
     ]
    }
   ],
   "source": [
    "a[mask] = -1\n",
    "print(a)"
   ]
  },
  {
   "cell_type": "code",
   "execution_count": 41,
   "metadata": {},
   "outputs": [
    {
     "name": "stdout",
     "output_type": "stream",
     "text": [
      "index= [0, 2, 4, 6, 8, 10, 12, 14]\n",
      "[-1  2  4 -1  8 10 -1 14]\n"
     ]
    }
   ],
   "source": [
    "# 偶数リスト\n",
    "lst = list(range(0, 15, 2))\n",
    "print(\"index=\", lst)\n",
    "\n",
    "# 偶数インデックスの要素を取りだす\n",
    "print(a[lst])"
   ]
  },
  {
   "cell_type": "code",
   "execution_count": 42,
   "metadata": {},
   "outputs": [
    {
     "name": "stdout",
     "output_type": "stream",
     "text": [
      "[-1  2  4 -1  8 10 -1 14]\n"
     ]
    }
   ],
   "source": [
    "print(a[numpy.arange(0, 15, 2)])"
   ]
  }
 ],
 "metadata": {
  "kernelspec": {
   "display_name": "Python 3",
   "language": "python",
   "name": "python3"
  },
  "language_info": {
   "codemirror_mode": {
    "name": "ipython",
    "version": 3
   },
   "file_extension": ".py",
   "mimetype": "text/x-python",
   "name": "python",
   "nbconvert_exporter": "python",
   "pygments_lexer": "ipython3",
   "version": "3.8.0"
  }
 },
 "nbformat": 4,
 "nbformat_minor": 4
}

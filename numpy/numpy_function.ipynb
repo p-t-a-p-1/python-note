{
 "cells": [
  {
   "cell_type": "code",
   "execution_count": 1,
   "metadata": {},
   "outputs": [],
   "source": [
    "# Numpyインストール\n",
    "import numpy"
   ]
  },
  {
   "cell_type": "code",
   "execution_count": 2,
   "metadata": {},
   "outputs": [
    {
     "name": "stdout",
     "output_type": "stream",
     "text": [
      "[1 2 3 4]\n"
     ]
    }
   ],
   "source": [
    "a = numpy.arange(1, 5)\n",
    "print(a)"
   ]
  },
  {
   "cell_type": "code",
   "execution_count": 3,
   "metadata": {},
   "outputs": [
    {
     "name": "stdout",
     "output_type": "stream",
     "text": [
      "[ 1.55740772 -2.18503986 -0.14254654  1.15782128]\n"
     ]
    }
   ],
   "source": [
    "# 各要素の y = tan(x) を求める　三角関数\n",
    "print(numpy.tan(a))"
   ]
  },
  {
   "cell_type": "code",
   "execution_count": 4,
   "metadata": {},
   "outputs": [
    {
     "name": "stdout",
     "output_type": "stream",
     "text": [
      "[ 2.71828183  7.3890561  20.08553692 54.59815003]\n"
     ]
    }
   ],
   "source": [
    "# 各要素の y = exp(x) を求める　指数関数\n",
    "print(numpy.exp(a))"
   ]
  },
  {
   "cell_type": "code",
   "execution_count": 5,
   "metadata": {},
   "outputs": [
    {
     "name": "stdout",
     "output_type": "stream",
     "text": [
      "[0.         0.69314718 1.09861229 1.38629436]\n"
     ]
    }
   ],
   "source": [
    "# 各要素の y = log(x) を求める　対数関数\n",
    "print(numpy.log(a))"
   ]
  },
  {
   "cell_type": "markdown",
   "metadata": {},
   "source": [
    "# 統計入門"
   ]
  },
  {
   "cell_type": "markdown",
   "metadata": {},
   "source": [
    "## 分散\n",
    "データがどれくらいばらついているかを値にしたもの  \n",
    "求め方は「平均からの差の２乗」の平均  \n",
    "例：↓のaのテストの結果 [50, 60, 70, 70, 100]で考えると  \n",
    "`分散 = ( (50-70)^2 + (60-70)^2 + (70-70)^2 + (70-70)^2  + (100-70)^2 ) / 5 = 280（点^2） `  \n",
    "  \n",
    "## 標準偏差\n",
    "分散は数値を2乗しているので単位が合わない  \n",
    "平均や中央値の単位は点だけど分散の単位は点^2になり指標としては良くない  \n",
    "他の指標と比較するため単位を合わせる必要があり、分散の正の平方根が標準偏差となる\n",
    "例：↓のaで考えると  \n",
    "`標準偏差 = +√280 ≒ 16.73（点）`  \n",
    "  \n",
    "### 68%95%ルール\n",
    "データの確率分布が正規分布の形をしている場合、  \n",
    "* 平均-1*標準偏差 〜 平均+1*標準偏差 にデータが含まれている確率が68%\n",
    "* 平均-2*標準偏差 〜 平均+2*標準偏差 にデータが含まれている確率が95%"
   ]
  },
  {
   "cell_type": "code",
   "execution_count": 6,
   "metadata": {},
   "outputs": [
    {
     "name": "stdout",
     "output_type": "stream",
     "text": [
      "総和  350\n",
      "平均  70.0\n",
      "中央値  70.0\n",
      "分散  280.0\n",
      "標準偏差  16.73320053068151\n",
      "最小値  50\n",
      "最小値のインデックス  0\n",
      "最大値  100\n",
      "最大値のインデックス  4\n"
     ]
    }
   ],
   "source": [
    "# aのテストの結果 [50, 60, 70, 70, 100]\n",
    "a_score = numpy.array([50, 60, 70, 70, 100])\n",
    "print(\"総和 \", numpy.sum(a_score))\n",
    "print(\"平均 \", numpy.mean(a_score))\n",
    "print(\"中央値 \", numpy.median(a_score))\n",
    "print(\"分散 \", numpy.var(a_score))\n",
    "print(\"標準偏差 \", numpy.std(a_score))\n",
    "print(\"最小値 \", numpy.min(a_score))\n",
    "print(\"最小値のインデックス \", numpy.argmin(a_score))\n",
    "print(\"最大値 \", numpy.max(a_score))\n",
    "print(\"最大値のインデックス \", numpy.argmax(a_score))"
   ]
  },
  {
   "cell_type": "code",
   "execution_count": 7,
   "metadata": {},
   "outputs": [
    {
     "name": "stdout",
     "output_type": "stream",
     "text": [
      "総和  350\n",
      "平均  70.0\n",
      "中央値  70.0\n",
      "分散  0.4\n",
      "標準偏差  0.6324555320336759\n",
      "最小値  69\n",
      "最小値のインデックス  0\n",
      "最大値  71\n",
      "最大値のインデックス  4\n"
     ]
    }
   ],
   "source": [
    "# bのテストの結果 [69, 70, 70, 70, 71]\n",
    "b_score = numpy.array([69, 70, 70, 70, 71])\n",
    "print(\"総和 \", numpy.sum(b_score))\n",
    "print(\"平均 \", numpy.mean(b_score))\n",
    "print(\"中央値 \", numpy.median(b_score))\n",
    "print(\"分散 \", numpy.var(b_score))\n",
    "print(\"標準偏差 \", numpy.std(b_score))\n",
    "print(\"最小値 \", numpy.min(b_score))\n",
    "print(\"最小値のインデックス \", numpy.argmin(b_score))\n",
    "print(\"最大値 \", numpy.max(b_score))\n",
    "print(\"最大値のインデックス \", numpy.argmax(b_score))"
   ]
  },
  {
   "cell_type": "code",
   "execution_count": 9,
   "metadata": {},
   "outputs": [
    {
     "name": "stdout",
     "output_type": "stream",
     "text": [
      "b= [[0 1 2]\n",
      " [3 4 5]]\n",
      "axis=0 [3 5 7]\n",
      "axis=1 [ 3 12]\n",
      "total 15\n"
     ]
    }
   ],
   "source": [
    "b = numpy.arange(6).reshape(2, 3)\n",
    "print(\"b=\", b)\n",
    "print(\"axis=0\", b.sum(axis=0))\n",
    "print(\"axis=1\", b.sum(axis=1))\n",
    "print(\"total\", b.sum())"
   ]
  },
  {
   "cell_type": "code",
   "execution_count": 13,
   "metadata": {},
   "outputs": [
    {
     "name": "stdout",
     "output_type": "stream",
     "text": [
      "axis=0 [[3 5 7]]\n",
      "axis=0 shape (1, 3)\n",
      "axis=1 [[ 3]\n",
      " [12]]\n",
      "axis=1 shape (2, 1)\n"
     ]
    }
   ],
   "source": [
    "b0 = b.sum(axis=0, keepdims=True)\n",
    "print(\"axis=0\", b0)\n",
    "print(\"axis=0 shape\", b0.shape) # 次元情報\n",
    "b1 = b.sum(axis=1, keepdims=True)\n",
    "print(\"axis=1\", b1)\n",
    "print(\"axis=1 shape\", b1.shape) # 次元情報"
   ]
  },
  {
   "cell_type": "markdown",
   "metadata": {},
   "source": [
    "# ソート関数"
   ]
  },
  {
   "cell_type": "code",
   "execution_count": 14,
   "metadata": {},
   "outputs": [
    {
     "name": "stdout",
     "output_type": "stream",
     "text": [
      "[4 3 1 4 2]\n"
     ]
    }
   ],
   "source": [
    "a = numpy.array([4, 3, 1, 4, 2])\n",
    "print(a)"
   ]
  },
  {
   "cell_type": "code",
   "execution_count": 15,
   "metadata": {},
   "outputs": [
    {
     "name": "stdout",
     "output_type": "stream",
     "text": [
      "[1 2 3 4 4]\n"
     ]
    }
   ],
   "source": [
    "# 配列の要素をソート\n",
    "print(numpy.sort(a))"
   ]
  },
  {
   "cell_type": "code",
   "execution_count": 16,
   "metadata": {},
   "outputs": [
    {
     "name": "stdout",
     "output_type": "stream",
     "text": [
      "[2 4 1 0 3]\n"
     ]
    }
   ],
   "source": [
    "# ソート結果をインデックスで取得\n",
    "print(numpy.argsort(a))"
   ]
  },
  {
   "cell_type": "code",
   "execution_count": 17,
   "metadata": {},
   "outputs": [
    {
     "name": "stdout",
     "output_type": "stream",
     "text": [
      "[1 2 3 4 4]\n"
     ]
    }
   ],
   "source": [
    "mask = numpy.argsort(a)\n",
    "print(a[mask])"
   ]
  },
  {
   "cell_type": "code",
   "execution_count": null,
   "metadata": {},
   "outputs": [],
   "source": []
  }
 ],
 "metadata": {
  "kernelspec": {
   "display_name": "Python 3",
   "language": "python",
   "name": "python3"
  },
  "language_info": {
   "codemirror_mode": {
    "name": "ipython",
    "version": 3
   },
   "file_extension": ".py",
   "mimetype": "text/x-python",
   "name": "python",
   "nbconvert_exporter": "python",
   "pygments_lexer": "ipython3",
   "version": "3.8.0"
  }
 },
 "nbformat": 4,
 "nbformat_minor": 4
}

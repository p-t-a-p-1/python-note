{
 "cells": [
  {
   "cell_type": "code",
   "execution_count": 89,
   "metadata": {},
   "outputs": [
    {
     "name": "stdout",
     "output_type": "stream",
     "text": [
      "xは正の整数\n"
     ]
    }
   ],
   "source": [
    "x = 42\n",
    "\n",
    "if x < 0:\n",
    "    print('xは負の整数')\n",
    "elif x > 0:\n",
    "    print('xは正の整数')\n",
    "else:\n",
    "    print('xは0です')"
   ]
  },
  {
   "cell_type": "code",
   "execution_count": 90,
   "metadata": {},
   "outputs": [
    {
     "name": "stdout",
     "output_type": "stream",
     "text": [
      "w = dwango, len(w) = 6\n",
      "w = kabukiza, len(w) = 8\n",
      "w = higashiginza, len(w) = 12\n"
     ]
    }
   ],
   "source": [
    "words = ['dwango', 'kabukiza', 'higashiginza']\n",
    "for w in words:\n",
    "    print(f\"w = {w}, len(w) = {len(w)}\")"
   ]
  },
  {
   "cell_type": "code",
   "execution_count": 92,
   "metadata": {},
   "outputs": [
    {
     "name": "stdout",
     "output_type": "stream",
     "text": [
      "v =  0\n",
      "v =  1\n",
      "v =  2\n",
      "v =  3\n",
      "v =  4\n"
     ]
    }
   ],
   "source": [
    "# range(n) で0からn未満の整数を生成\n",
    "for v in range(5):\n",
    "    print(\"v = \", v)"
   ]
  },
  {
   "cell_type": "code",
   "execution_count": 94,
   "metadata": {},
   "outputs": [
    {
     "name": "stdout",
     "output_type": "stream",
     "text": [
      "v =  5\n",
      "v =  6\n",
      "v =  7\n",
      "v =  8\n",
      "v =  9\n"
     ]
    }
   ],
   "source": [
    "# 5から9まで\n",
    "for v in range(5, 10):\n",
    "    print(\"v = \", v)"
   ]
  },
  {
   "cell_type": "code",
   "execution_count": 96,
   "metadata": {},
   "outputs": [
    {
     "name": "stdout",
     "output_type": "stream",
     "text": [
      "v =  0\n",
      "v =  3\n",
      "v =  6\n",
      "v =  9\n"
     ]
    }
   ],
   "source": [
    "# range(a, b, c) で aからb未満まで、c間隔で整数を生成\n",
    "for v in range(0, 10, 3):\n",
    "    print(\"v = \", v)"
   ]
  },
  {
   "cell_type": "code",
   "execution_count": 97,
   "metadata": {},
   "outputs": [
    {
     "name": "stdout",
     "output_type": "stream",
     "text": [
      "v =  -10\n",
      "v =  -40\n",
      "v =  -70\n"
     ]
    }
   ],
   "source": [
    "for v in range(-10, -100, -30):\n",
    "    print(\"v = \", v)"
   ]
  },
  {
   "cell_type": "code",
   "execution_count": 98,
   "metadata": {},
   "outputs": [
    {
     "name": "stdout",
     "output_type": "stream",
     "text": [
      "lst= [5, 6, 7, 8, 9]\n"
     ]
    }
   ],
   "source": [
    "lst = list(range(5, 10))\n",
    "print(\"lst=\", lst)"
   ]
  },
  {
   "cell_type": "code",
   "execution_count": 99,
   "metadata": {},
   "outputs": [
    {
     "name": "stdout",
     "output_type": "stream",
     "text": [
      "i=0, v=5\n",
      "i=1, v=6\n",
      "i=2, v=7\n",
      "i=3, v=8\n",
      "i=4, v=9\n"
     ]
    }
   ],
   "source": [
    "for i, v in enumerate(lst):\n",
    "    print(f\"i={i}, v={v}\")"
   ]
  },
  {
   "cell_type": "code",
   "execution_count": 100,
   "metadata": {},
   "outputs": [
    {
     "name": "stdout",
     "output_type": "stream",
     "text": [
      "i=0, v=dwango\n",
      "i=1, v=kabukiza\n",
      "i=2, v=higashiginza\n"
     ]
    }
   ],
   "source": [
    "words = ['dwango', 'kabukiza', 'higashiginza']\n",
    "for i, v in enumerate(words):\n",
    "    print(f\"i={i}, v={v}\")"
   ]
  },
  {
   "cell_type": "code",
   "execution_count": 101,
   "metadata": {},
   "outputs": [
    {
     "name": "stdout",
     "output_type": "stream",
     "text": [
      "lst1: [1, 2, 3, 4]\n",
      "lst2: [5, 6, 7, 8]\n"
     ]
    }
   ],
   "source": [
    "lst1 = list(range(1, 5))\n",
    "lst2 = list(range(5, 9))\n",
    "print('lst1:', lst1)\n",
    "print('lst2:', lst2)"
   ]
  },
  {
   "cell_type": "code",
   "execution_count": 102,
   "metadata": {},
   "outputs": [
    {
     "name": "stdout",
     "output_type": "stream",
     "text": [
      "a=1, b=5 1 5\n",
      "a=2, b=6 2 6\n",
      "a=3, b=7 3 7\n",
      "a=4, b=8 4 8\n"
     ]
    }
   ],
   "source": [
    "for a, b in zip(lst1, lst2):\n",
    "    print(f\"a={a}, b={b}\", a, b)"
   ]
  },
  {
   "cell_type": "code",
   "execution_count": 103,
   "metadata": {},
   "outputs": [
    {
     "name": "stdout",
     "output_type": "stream",
     "text": [
      "{'pear', 'orange', 'apple', 'banana'}\n"
     ]
    }
   ],
   "source": [
    "basket = {'apple', 'orange', 'apple', 'pear', 'orange', 'banana'}\n",
    "print(basket)"
   ]
  },
  {
   "cell_type": "code",
   "execution_count": 104,
   "metadata": {},
   "outputs": [
    {
     "name": "stdout",
     "output_type": "stream",
     "text": [
      "v =  apple\n",
      "v =  banana\n",
      "v =  orange\n",
      "v =  pear\n"
     ]
    }
   ],
   "source": [
    "for v in sorted(basket):\n",
    "    print(\"v = \", v)"
   ]
  },
  {
   "cell_type": "code",
   "execution_count": 106,
   "metadata": {},
   "outputs": [
    {
     "name": "stdout",
     "output_type": "stream",
     "text": [
      "lst =  [5, 6, 7, 8, 9]\n"
     ]
    }
   ],
   "source": [
    "lst = list(range(5,10))\n",
    "print(\"lst = \", lst)"
   ]
  },
  {
   "cell_type": "code",
   "execution_count": 108,
   "metadata": {},
   "outputs": [
    {
     "name": "stdout",
     "output_type": "stream",
     "text": [
      "v= 9\n",
      "v= 8\n",
      "v= 7\n",
      "v= 6\n",
      "v= 5\n"
     ]
    }
   ],
   "source": [
    "for v in reversed(lst):\n",
    "    print(\"v=\", v)"
   ]
  },
  {
   "cell_type": "code",
   "execution_count": 109,
   "metadata": {},
   "outputs": [
    {
     "name": "stdout",
     "output_type": "stream",
     "text": [
      "lst1= [1, 2, 3]\n",
      "lst2_sorted= [1, 2, 3]\n",
      "lst2= [1, 3, 2]\n"
     ]
    }
   ],
   "source": [
    "lst1 = [1, 3, 2]\n",
    "lst1.sort()\n",
    "print(\"lst1=\", lst1)\n",
    "\n",
    "lst2 = [1, 3, 2]\n",
    "lst2_sorted = sorted(lst2)\n",
    "print(\"lst2_sorted=\", lst2_sorted)\n",
    "print(\"lst2=\", lst2)\n",
    "\n",
    "\n"
   ]
  },
  {
   "cell_type": "code",
   "execution_count": 111,
   "metadata": {},
   "outputs": [
    {
     "name": "stdout",
     "output_type": "stream",
     "text": [
      "v= 0\n",
      "v= 1\n",
      "v= 2\n"
     ]
    }
   ],
   "source": [
    "for v in range(10):\n",
    "    print(\"v=\", v)\n",
    "    if v % 3 == 2:\n",
    "        break"
   ]
  },
  {
   "cell_type": "code",
   "execution_count": 112,
   "metadata": {},
   "outputs": [
    {
     "name": "stdout",
     "output_type": "stream",
     "text": [
      "x=0 y=1\n",
      "x=0 y=2\n",
      "x=0 y=3\n",
      "x=0 y=4\n",
      "x=1 y=0\n",
      "x=1 y=2\n",
      "x=1 y=3\n",
      "x=1 y=4\n",
      "x=2 y=0\n",
      "x=2 y=1\n",
      "x=2 y=3\n",
      "x=2 y=4\n",
      "x=3 y=0\n",
      "x=3 y=1\n",
      "x=3 y=2\n",
      "x=3 y=4\n",
      "x=4 y=0\n",
      "x=4 y=1\n",
      "x=4 y=2\n",
      "x=4 y=3\n"
     ]
    }
   ],
   "source": [
    "for x in range(5):\n",
    "    for y in range(5):\n",
    "        if x == y:\n",
    "            continue\n",
    "        print(f\"x={x} y={y}\")"
   ]
  },
  {
   "cell_type": "code",
   "execution_count": 141,
   "metadata": {},
   "outputs": [],
   "source": [
    "def is_even(x):\n",
    "    \"\"\"偶数かどうか調べる関数\n",
    "    \n",
    "    Parameters\n",
    "    ---------------\n",
    "    x : int\n",
    "        調べる対象の整数\n",
    "        \n",
    "    Returns\n",
    "    -----------\n",
    "    bool\n",
    "        偶数ならTrue, 奇数ならFalse\n",
    "    \"\"\"\n",
    "    return x % 2 == 0"
   ]
  },
  {
   "cell_type": "code",
   "execution_count": 142,
   "metadata": {},
   "outputs": [
    {
     "name": "stdout",
     "output_type": "stream",
     "text": [
      "偶数かどうか調べる関数\n",
      "    \n",
      "    Parameters\n",
      "    ---------------\n",
      "    x : int\n",
      "        調べる対象の整数\n",
      "        \n",
      "    Returns\n",
      "    -----------\n",
      "    bool\n",
      "        偶数ならTrue, 奇数ならFalse\n",
      "    \n"
     ]
    }
   ],
   "source": [
    "print(is_even.__doc__)"
   ]
  },
  {
   "cell_type": "code",
   "execution_count": 143,
   "metadata": {},
   "outputs": [],
   "source": [
    "is_even?"
   ]
  },
  {
   "cell_type": "code",
   "execution_count": 144,
   "metadata": {},
   "outputs": [
    {
     "data": {
      "text/plain": [
       "<function __main__.is_even(x)>"
      ]
     },
     "execution_count": 144,
     "metadata": {},
     "output_type": "execute_result"
    }
   ],
   "source": [
    "is_even"
   ]
  },
  {
   "cell_type": "code",
   "execution_count": 146,
   "metadata": {},
   "outputs": [],
   "source": [
    "class Video:\n",
    "    def __init__(self, video_id, title):\n",
    "        \"\"\"クラスをインスタンス化するときに呼び出されるメソッド\"\"\"\n",
    "        self.id = video_id\n",
    "        self.title = title\n",
    "        \n",
    "    def play(self):\n",
    "        \"\"\"動画を再生する\"\"\"\n",
    "        self.start()\n",
    "        print(f\"Playing {self.title}\")\n",
    "        self.stop()\n",
    "        \n",
    "    def start(self):\n",
    "        \"\"\"動画の再生を開始する\"\"\"\n",
    "        print(f\"Start {self.id}\")\n",
    "    \n",
    "    def stop(self):\n",
    "        \"\"\"動画の再生を止める\"\"\"\n",
    "        print(f\"Stop {self.id}\")\n",
    "\n",
    "video = Video('test_video_id', 'テスト動画')"
   ]
  },
  {
   "cell_type": "code",
   "execution_count": 147,
   "metadata": {},
   "outputs": [
    {
     "name": "stdout",
     "output_type": "stream",
     "text": [
      "Start test_video_id\n",
      "Playing テスト動画\n",
      "Stop test_video_id\n"
     ]
    }
   ],
   "source": [
    "video.play()"
   ]
  },
  {
   "cell_type": "code",
   "execution_count": 149,
   "metadata": {},
   "outputs": [
    {
     "name": "stdout",
     "output_type": "stream",
     "text": [
      "Start sm9\n",
      "Playing 動画1\n",
      "Stop sm9\n",
      "\n",
      "Start sm1097445\n",
      "Playing 動画2\n",
      "Stop sm1097445\n",
      "\n",
      "Start sm15022913\n",
      "Playing 動画3\n",
      "Stop sm15022913\n",
      "\n",
      "Start 1397552685\n",
      "Playing 動画4\n",
      "Stop 1397552685\n",
      "\n"
     ]
    }
   ],
   "source": [
    "mylists = [\n",
    "    Video('sm9', '動画1'),\n",
    "    Video('sm1097445', '動画2'),\n",
    "    Video('sm15022913', '動画3'),\n",
    "    Video('1397552685', '動画4')\n",
    "]\n",
    "\n",
    "for video in mylists:\n",
    "    video.play()\n",
    "    print()"
   ]
  },
  {
   "cell_type": "code",
   "execution_count": 151,
   "metadata": {},
   "outputs": [
    {
     "name": "stdout",
     "output_type": "stream",
     "text": [
      "False\n",
      "True\n"
     ]
    }
   ],
   "source": [
    "numbers = [i for i in range(10)]\n",
    "\n",
    "f = open(\"numbers.txt\", \"w\")\n",
    "for number in numbers:\n",
    "    f.write(f\"{number}, {number**2}\\n\")\n",
    "print(f.closed)\n",
    "f.close()\n",
    "print(f.closed)"
   ]
  },
  {
   "cell_type": "code",
   "execution_count": 152,
   "metadata": {},
   "outputs": [
    {
     "ename": "ValueError",
     "evalue": "I/O operation on closed file.",
     "output_type": "error",
     "traceback": [
      "\u001b[0;31m---------------------------------------------------------------------------\u001b[0m",
      "\u001b[0;31mValueError\u001b[0m                                Traceback (most recent call last)",
      "\u001b[0;32m<ipython-input-152-4af922d3fca6>\u001b[0m in \u001b[0;36m<module>\u001b[0;34m\u001b[0m\n\u001b[0;32m----> 1\u001b[0;31m \u001b[0mf\u001b[0m\u001b[0;34m.\u001b[0m\u001b[0mwrite\u001b[0m\u001b[0;34m(\u001b[0m\u001b[0;34m\"err\"\u001b[0m\u001b[0;34m)\u001b[0m\u001b[0;34m\u001b[0m\u001b[0;34m\u001b[0m\u001b[0m\n\u001b[0m",
      "\u001b[0;31mValueError\u001b[0m: I/O operation on closed file."
     ]
    }
   ],
   "source": [
    "f.write(\"err\")"
   ]
  },
  {
   "cell_type": "code",
   "execution_count": 153,
   "metadata": {},
   "outputs": [],
   "source": [
    "with open(\"numbers.txt\", \"w\") as f:\n",
    "    for number in numbers:\n",
    "        f.write(f\"{number}, {number**2}\\n\")"
   ]
  },
  {
   "cell_type": "code",
   "execution_count": 154,
   "metadata": {},
   "outputs": [
    {
     "name": "stdout",
     "output_type": "stream",
     "text": [
      "withの内 False\n",
      "withの外 True\n"
     ]
    }
   ],
   "source": [
    "with open(\"test.txt\", \"w\") as f:\n",
    "    print(\"withの内\", f.closed)\n",
    "print(\"withの外\", f.closed)"
   ]
  },
  {
   "cell_type": "code",
   "execution_count": 155,
   "metadata": {},
   "outputs": [
    {
     "name": "stdout",
     "output_type": "stream",
     "text": [
      "# readlines\n",
      "f.readlines()= ['0, 0\\n', '1, 1\\n', '2, 4\\n', '3, 9\\n', '4, 16\\n', '5, 25\\n', '6, 36\\n', '7, 49\\n', '8, 64\\n', '9, 81\\n']\n",
      "0, 0\n",
      "1, 1\n",
      "2, 4\n",
      "3, 9\n",
      "4, 16\n",
      "5, 25\n",
      "6, 36\n",
      "7, 49\n",
      "8, 64\n",
      "9, 81\n"
     ]
    }
   ],
   "source": [
    "print(\"# readlines\")\n",
    "with open(\"numbers.txt\", \"r\") as f:\n",
    "    lines = f.readlines()\n",
    "print(\"f.readlines()=\", lines)\n",
    "for line in lines:\n",
    "    print(line, end=\"\")"
   ]
  },
  {
   "cell_type": "code",
   "execution_count": 156,
   "metadata": {},
   "outputs": [
    {
     "name": "stdout",
     "output_type": "stream",
     "text": [
      "0, 0\n",
      "1, 1\n",
      "2, 4\n",
      "3, 9\n",
      "4, 16\n",
      "5, 25\n",
      "6, 36\n",
      "7, 49\n",
      "8, 64\n",
      "9, 81\n"
     ]
    }
   ],
   "source": [
    "with open(\"numbers.txt\", \"r\") as f:\n",
    "    for line in f:\n",
    "        line = line.rstrip()\n",
    "        print(line)"
   ]
  },
  {
   "cell_type": "code",
   "execution_count": 162,
   "metadata": {},
   "outputs": [
    {
     "name": "stdout",
     "output_type": "stream",
     "text": [
      "splited =  ['9', ' 81']\n",
      "splited[0] + splited[1] = 9 81\n",
      "9 + 81 = 90\n"
     ]
    }
   ],
   "source": [
    "line = \"9, 81\"\n",
    "splited = line.split(\",\")\n",
    "print(\"splited = \", splited)\n",
    "print(\"splited[0] + splited[1] =\", splited[0] + splited[1])\n",
    "\n",
    "number = [int(i) for i in splited]\n",
    "print(f\"{number[0]} + {number[1]} = {number[0] + number[1]}\")"
   ]
  },
  {
   "cell_type": "code",
   "execution_count": 163,
   "metadata": {},
   "outputs": [
    {
     "name": "stdout",
     "output_type": "stream",
     "text": [
      "0 + 0 = 0\n",
      "1 + 1 = 2\n",
      "2 + 4 = 6\n",
      "3 + 9 = 12\n",
      "4 + 16 = 20\n",
      "5 + 25 = 30\n",
      "6 + 36 = 42\n",
      "7 + 49 = 56\n",
      "8 + 64 = 72\n",
      "9 + 81 = 90\n"
     ]
    }
   ],
   "source": [
    "with open(\"numbers.txt\", \"r\") as f:\n",
    "    for line in f:\n",
    "        line = line.rstrip()\n",
    "        splited = line.split(\",\")\n",
    "        number = [int(i) for i in splited]\n",
    "        print(f\"{number[0]} + {number[1]} = {number[0] + number[1]}\")\n"
   ]
  },
  {
   "cell_type": "code",
   "execution_count": null,
   "metadata": {},
   "outputs": [],
   "source": []
  }
 ],
 "metadata": {
  "kernelspec": {
   "display_name": "Python 3",
   "language": "python",
   "name": "python3"
  },
  "language_info": {
   "codemirror_mode": {
    "name": "ipython",
    "version": 3
   },
   "file_extension": ".py",
   "mimetype": "text/x-python",
   "name": "python",
   "nbconvert_exporter": "python",
   "pygments_lexer": "ipython3",
   "version": "3.8.0"
  }
 },
 "nbformat": 4,
 "nbformat_minor": 4
}

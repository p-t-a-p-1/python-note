{
 "cells": [
  {
   "cell_type": "code",
   "execution_count": 1,
   "metadata": {},
   "outputs": [],
   "source": [
    "# Numpyインストール\n",
    "import numpy"
   ]
  },
  {
   "cell_type": "code",
   "execution_count": 2,
   "metadata": {},
   "outputs": [
    {
     "name": "stdout",
     "output_type": "stream",
     "text": [
      "[0 1 2 3]\n"
     ]
    }
   ],
   "source": [
    "# 1次元配列\n",
    "a = numpy.array([0, 1, 2, 3])\n",
    "print(a)"
   ]
  },
  {
   "cell_type": "code",
   "execution_count": 4,
   "metadata": {},
   "outputs": [
    {
     "name": "stdout",
     "output_type": "stream",
     "text": [
      "[[0 1 2]\n",
      " [3 4 5]]\n"
     ]
    }
   ],
   "source": [
    "# 2次元配列\n",
    "b = numpy.array([[0, 1, 2], [3, 4, 5]])\n",
    "print(b)"
   ]
  },
  {
   "cell_type": "code",
   "execution_count": 5,
   "metadata": {},
   "outputs": [
    {
     "name": "stdout",
     "output_type": "stream",
     "text": [
      "a.shape (4,)\n",
      "b.shape (2, 3)\n"
     ]
    }
   ],
   "source": [
    "# 要素が4つの1次元配列\n",
    "print(\"a.shape\", a.shape)\n",
    "\n",
    "# 要素が3つの2次元配列\n",
    "print(\"b.shape\", b.shape)"
   ]
  },
  {
   "cell_type": "code",
   "execution_count": 6,
   "metadata": {},
   "outputs": [
    {
     "name": "stdout",
     "output_type": "stream",
     "text": [
      "a.size 4\n",
      "b.size 6\n"
     ]
    }
   ],
   "source": [
    "# 要素数\n",
    "print(\"a.size\", a.size)\n",
    "print(\"b.size\", b.size)"
   ]
  },
  {
   "cell_type": "code",
   "execution_count": 7,
   "metadata": {},
   "outputs": [
    {
     "name": "stdout",
     "output_type": "stream",
     "text": [
      "[0 1 2 3 4]\n"
     ]
    }
   ],
   "source": [
    "# 0から4までの整数を持つ配列を生成\n",
    "print(numpy.arange(5))"
   ]
  },
  {
   "cell_type": "code",
   "execution_count": 9,
   "metadata": {},
   "outputs": [
    {
     "name": "stdout",
     "output_type": "stream",
     "text": [
      "[1 3 5 7 9]\n"
     ]
    }
   ],
   "source": [
    "# 1から9までの整数のうち奇数の配列を生成\n",
    "# → 1から9まで+2ずつ整数取り出す\n",
    "print(numpy.arange(1, 10, 2))"
   ]
  },
  {
   "cell_type": "code",
   "execution_count": 10,
   "metadata": {},
   "outputs": [
    {
     "name": "stdout",
     "output_type": "stream",
     "text": [
      "6 [0 1 2 3 4 5]\n",
      "2×3 [[0 1 2]\n",
      " [3 4 5]]\n"
     ]
    }
   ],
   "source": [
    "# 0から5までの整数配列\n",
    "print(\"6\", numpy.arange(6))\n",
    "# 0から5までの整数配列を変形（要素数は同じでないといけない）\n",
    "print(\"2×3\", numpy.arange(6).reshape(2, 3))"
   ]
  },
  {
   "cell_type": "code",
   "execution_count": 14,
   "metadata": {},
   "outputs": [
    {
     "name": "stdout",
     "output_type": "stream",
     "text": [
      "[2.   2.25 2.5  2.75 3.  ]\n",
      "[2.  2.2 2.4 2.6 2.8]\n",
      "[2.   2.25 2.5  2.75 3.  ]\n",
      "0.25\n"
     ]
    }
   ],
   "source": [
    "# 2.0から3.0までの区間で5つの値を等間隔で生成し配列化\n",
    "# → 0.25ごと\n",
    "print(numpy.linspace(2.0, 3.0, num=5))\n",
    "\n",
    "# 区間の終了を配列に含めないときは endpoint=False\n",
    "print(numpy.linspace(2.0, 3.0, num=5, endpoint=False))\n",
    "\n",
    "# 間隔の値も同時に取得したいときは retstep=True\n",
    "a, step = numpy.linspace(2.0, 3.0, num=5, retstep=True)\n",
    "print(a)\n",
    "print(step)"
   ]
  },
  {
   "cell_type": "code",
   "execution_count": 17,
   "metadata": {},
   "outputs": [
    {
     "name": "stdout",
     "output_type": "stream",
     "text": [
      "[1. 1. 1. 1. 1.]\n",
      "[[1. 1.]\n",
      " [1. 1.]\n",
      " [1. 1.]]\n"
     ]
    }
   ],
   "source": [
    "# 5つの1を持つ1次元配列\n",
    "print(numpy.ones(5))\n",
    "\n",
    "# 3行2列の２次元配列\n",
    "print(numpy.ones((3, 2)))"
   ]
  },
  {
   "cell_type": "code",
   "execution_count": 20,
   "metadata": {},
   "outputs": [
    {
     "name": "stdout",
     "output_type": "stream",
     "text": [
      "[0. 0. 0. 0. 0.]\n",
      "[[0. 0.]\n",
      " [0. 0.]\n",
      " [0. 0.]]\n"
     ]
    }
   ],
   "source": [
    "# 5つの0を持つ1次元配列\n",
    "print(numpy.zeros(5))\n",
    "\n",
    "# 3行2列の2次元配列\n",
    "print(numpy.zeros((3, 2)))"
   ]
  },
  {
   "cell_type": "code",
   "execution_count": 21,
   "metadata": {},
   "outputs": [
    {
     "name": "stdout",
     "output_type": "stream",
     "text": [
      "[[1. 0.]\n",
      " [0. 1.]]\n"
     ]
    }
   ],
   "source": [
    "# 対角要素が1となる2次元配列生成\n",
    "print(numpy.eye(2))"
   ]
  },
  {
   "cell_type": "code",
   "execution_count": null,
   "metadata": {},
   "outputs": [],
   "source": []
  }
 ],
 "metadata": {
  "kernelspec": {
   "display_name": "Python 3",
   "language": "python",
   "name": "python3"
  },
  "language_info": {
   "codemirror_mode": {
    "name": "ipython",
    "version": 3
   },
   "file_extension": ".py",
   "mimetype": "text/x-python",
   "name": "python",
   "nbconvert_exporter": "python",
   "pygments_lexer": "ipython3",
   "version": "3.8.0"
  }
 },
 "nbformat": 4,
 "nbformat_minor": 4
}
